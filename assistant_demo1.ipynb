{
 "cells": [
  {
   "cell_type": "markdown",
   "metadata": {},
   "source": [
    "Import OpenAI"
   ]
  },
  {
   "cell_type": "code",
   "execution_count": 1,
   "metadata": {},
   "outputs": [],
   "source": [
    "from openai import OpenAI\n",
    "import os\n",
    "\n",
    "api_key = os.getenv('OPENAI_API_KEY')\n",
    "client = OpenAI(api_key=api_key)"
   ]
  },
  {
   "cell_type": "markdown",
   "metadata": {},
   "source": [
    "Create Assistant\n"
   ]
  },
  {
   "cell_type": "code",
   "execution_count": 2,
   "metadata": {},
   "outputs": [],
   "source": [
    "assistant = client.beta.assistants.create(\n",
    "    name = \"Assistant Demo 1\",\n",
    "    instructions = \"You are a helpful assistant that helps people with coding and building their projects. You are an expert in web design, and you are very friendly. You are also very patient with people who are new to coding.\",\n",
    "    tools = [{\"type\": \"code_interpreter\"}],\n",
    "    model = \"gpt-4-0125-preview\"\n",
    ")"
   ]
  },
  {
   "cell_type": "markdown",
   "metadata": {},
   "source": [
    "Create Thread"
   ]
  },
  {
   "cell_type": "code",
   "execution_count": 3,
   "metadata": {},
   "outputs": [
    {
     "name": "stdout",
     "output_type": "stream",
     "text": [
      "Thread(id='thread_ywivW997O4nrpENkMJgcc3BE', created_at=1706613776, metadata={}, object='thread')\n"
     ]
    }
   ],
   "source": [
    "thread = client.beta.threads.create()\n",
    "print(thread)"
   ]
  },
  {
   "cell_type": "markdown",
   "metadata": {},
   "source": [
    "Add message to thread"
   ]
  },
  {
   "cell_type": "code",
   "execution_count": 4,
   "metadata": {},
   "outputs": [
    {
     "name": "stdout",
     "output_type": "stream",
     "text": [
      "ThreadMessage(id='msg_xviotzqiHkPieHfVoKzIUMHu', assistant_id=None, content=[MessageContentText(text=Text(annotations=[], value='I want to build a website for a sports analytical webapp, that uses really cool interactive charts, dynamic and cool front end to visusliaze statistics. What are my options to make this happen in terms of tech stack? Specifically with what technologies would fit my projects the best, react, typescript, javascript etc. and what modules/libraries could i use for the nice charts? There  will be a web server in the backend implemented probably with django.'), type='text')], created_at=1706614193, file_ids=[], metadata={}, object='thread.message', role='user', run_id=None, thread_id='thread_ywivW997O4nrpENkMJgcc3BE')\n"
     ]
    }
   ],
   "source": [
    "message = client.beta.threads.messages.create(\n",
    "    thread_id = thread.id,\n",
    "    role = \"user\",\n",
    "    content = \"I want to build a website for a sports analytical webapp, that uses really cool interactive charts, dynamic and cool front end to visusliaze statistics. What are my options to make this happen in terms of tech stack? Specifically with what technologies would fit my projects the best, react, typescript, javascript etc. and what modules/libraries could i use for the nice charts? There  will be a web server in the backend implemented probably with django.\"\n",
    ")\n",
    "print(message)"
   ]
  },
  {
   "cell_type": "markdown",
   "metadata": {},
   "source": [
    "Run Assistant"
   ]
  },
  {
   "cell_type": "code",
   "execution_count": 23,
   "metadata": {},
   "outputs": [
    {
     "name": "stdout",
     "output_type": "stream",
     "text": [
      "run created!\n",
      "Run Status: in_progress\n",
      "Run Status: in_progress\n",
      "Run Status: in_progress\n",
      "Run Status: in_progress\n",
      "Run Status: in_progress\n",
      "Run Status: in_progress\n",
      "Run Status: in_progress\n",
      "Run Status: in_progress\n",
      "Run Status: in_progress\n",
      "Run Status: in_progress\n",
      "Run Status: in_progress\n",
      "Run Status: in_progress\n",
      "Run Status: in_progress\n",
      "Run Status: in_progress\n",
      "Run Status: in_progress\n",
      "Run Status: in_progress\n",
      "Run Status: in_progress\n",
      "Run Status: in_progress\n",
      "Run Status: in_progress\n",
      "Run Status: in_progress\n",
      "Run Status: in_progress\n",
      "Run Status: in_progress\n",
      "Run Status: in_progress\n",
      "Run Status: in_progress\n",
      "Run Status: in_progress\n",
      "Run Status: in_progress\n",
      "Run Status: in_progress\n",
      "Run Status: in_progress\n",
      "Run Status: in_progress\n",
      "Run Status: in_progress\n",
      "Run Status: in_progress\n",
      "Run Status: in_progress\n",
      "Run Status: in_progress\n",
      "Run Status: in_progress\n",
      "Run Status: in_progress\n",
      "Run Status: in_progress\n",
      "Run Status: in_progress\n",
      "Run Status: in_progress\n",
      "Run Status: in_progress\n",
      "Run Status: in_progress\n",
      "Run Status: in_progress\n",
      "Run Status: in_progress\n",
      "Run Status: in_progress\n",
      "Run Status: in_progress\n",
      "Run Status: in_progress\n",
      "Run Status: in_progress\n",
      "Run Status: in_progress\n",
      "Run Status: completed\n",
      "Run Completed!\n"
     ]
    }
   ],
   "source": [
    "import time\n",
    "\n",
    "run = client.beta.threads.runs.create(\n",
    "    thread_id = thread.id,\n",
    "    assistant_id = assistant.id\n",
    ")\n",
    "print(\"run created!\")\n",
    "while run.status not in [\"completed\", \"failed\"]:\n",
    "    run = client.beta.threads.runs.retrieve(thread_id=thread.id, run_id=run.id)\n",
    "    print(f\"Run Status: {run.status}\")\n",
    "    if run.status == \"failed\":\n",
    "        print(f\"Run Failed.\")\n",
    "        break\n",
    "    time.sleep(1)\n",
    "else:\n",
    "    print(f\"Run Completed!\")\n"
   ]
  },
  {
   "cell_type": "markdown",
   "metadata": {},
   "source": [
    "Display Response"
   ]
  },
  {
   "cell_type": "code",
   "execution_count": null,
   "metadata": {},
   "outputs": [],
   "source": [
    "messages = client.beta.threads.messages.list(\n",
    "    thread_id = thread.id\n",
    ")\n"
   ]
  },
  {
   "cell_type": "code",
   "execution_count": 25,
   "metadata": {},
   "outputs": [
    {
     "name": "stdout",
     "output_type": "stream",
     "text": [
      "user: I want to build a website for a sports analytical webapp, that uses really cool interactive charts, dynamic and cool front end to visusliaze statistics. What are my options to make this happen in terms of tech stack? Specifically with what technologies would fit my projects the best, react, typescript, javascript etc. and what modules/libraries could i use for the nice charts? There  will be a web server in the backend implemented probably with django.\n",
      "assistant: Creating a sports analytical web application with interactive charts and a dynamic front-end sounds like a great project. You're on the right track considering using React, TypeScript, JavaScript, and Django for your tech stack. Let's break down your options and how these technologies, along with specific libraries, can fit into your project:\n",
      "\n",
      "### Front-End\n",
      "\n",
      "**1. JavaScript/TypeScript:** \n",
      "- **JavaScript** is the backbone of web development, and **TypeScript** is a superset of JavaScript that adds static types. Using TypeScript with React is recommended for larger projects due to its ability to catch errors early and make codebase management easier.\n",
      "\n",
      "**2. React:**\n",
      "- **React** is a popular JavaScript library for building user interfaces. It's known for its component-based architecture, making it easy to create reusable UI components. React's ecosystem is huge, and many libraries are available to create interactive and animated charts.\n",
      "\n",
      "**Libraries for Charts:**\n",
      "\n",
      "a. **D3.js:** If you need highly customizable and dynamic charts, D3.js is a powerful library for creating intricate data visualizations. It has a steep learning curve but is very flexible.\n",
      "\n",
      "b. **Chart.js:** Easier to use than D3.js, Chart.js provides beautiful charts out of the box with less customization needed. It's a good choice for standard chart types.\n",
      "\n",
      "c. **Recharts:** Built on top of D3.js and designed for React, Recharts makes integrating charts into your React applications easier, allowing you to utilize D3's power with React's component-based philosophy.\n",
      "\n",
      "d. **Victory:** Another React-specific library, Victory, offers a collection of components for various types of charts and graphs, designed to be modular and easy to customize.\n",
      "\n",
      "**3. CSS Frameworks and Animation Libraries:**\n",
      "\n",
      "To achieve a cool and dynamic front-end, consider using CSS frameworks like **Tailwind CSS** or **Bootstrap** for styling and layout. For animations, **Framer Motion** (for React) or **Animate.css** can be used to add sophisticated animations to your web app.\n",
      "\n",
      "### Back-End\n",
      "\n",
      "**Django:**\n",
      "- As for the backend, Django is a high-level Python web framework that encourages rapid development and clean, pragmatic design. It's a good choice for your project because it comes with an ORM (Object-Relational Mapping) for database interactions, built-in security features, and it can handle server-side logic and user authentication effectively.\n",
      "\n",
      "### Integration\n",
      "\n",
      "For a seamless integration between your Django backend and React front-end, you have a couple of options:\n",
      "\n",
      "**1. Django REST Framework:** Design your Django application as a REST API that the React front-end can consume. This is a common pattern that decouples the front end from the back end, allowing each to evolve independently.\n",
      "\n",
      "**2. Django + Webpack Loader:** Another approach is to use Django to serve your React application directly, using tools like django-webpack-loader to integrate React's build output with Django's templates.\n",
      "\n",
      "### Development Tools\n",
      "\n",
      "- **Git** for version control.\n",
      "- **Webpack** and **Babel** for bundling and transpiling your JavaScript/TypeScript code.\n",
      "- **ESLint** and **Prettier** for code quality and formatting.\n",
      "\n",
      "This tech stack and these tools should give you a good foundation to start your sports analytical web application. Remember, the specific libraries and tools you choose should be based on your project's specific needs, your team's familiarity with the technology, and the complexity of the visualizations you plan to implement.\n",
      "assistant: Creating a sports analytical web application with interactive charts and a dynamic front-end sounds like a great project. You're on the right track considering using React, TypeScript, JavaScript, and Django for your tech stack. Let's break down your options and how these technologies, along with specific libraries, can fit into your project:\n",
      "\n",
      "### Front-End\n",
      "\n",
      "**1. JavaScript/TypeScript:** \n",
      "- **JavaScript** is the backbone of web development, and **TypeScript** is a superset of JavaScript that adds static types. Using TypeScript with React is recommended for larger projects due to its ability to catch errors early and make codebase management easier.\n",
      "\n",
      "**2. React:**\n",
      "- **React** is a popular JavaScript library for building user interfaces. It's known for its component-based architecture, making it easy to create reusable UI components. React's ecosystem is huge, and many libraries are available to create interactive and animated charts.\n",
      "\n",
      "**Libraries for Charts:**\n",
      "\n",
      "a. **D3.js:** If you need highly customizable and dynamic charts, D3.js is a powerful library for creating intricate data visualizations. It has a steep learning curve but is very flexible.\n",
      "\n",
      "b. **Chart.js:** Easier to use than D3.js, Chart.js provides beautiful charts out of the box with less customization needed. It's a good choice for standard chart types.\n",
      "\n",
      "c. **Recharts:** Built on top of D3.js and designed for React, Recharts makes integrating charts into your React applications easier, allowing you to utilize D3's power with React's component-based philosophy.\n",
      "\n",
      "d. **Victory:** Another React-specific library, Victory, offers a collection of components for various types of charts and graphs, designed to be modular and easy to customize.\n",
      "\n",
      "**3. CSS Frameworks and Animation Libraries:**\n",
      "\n",
      "To achieve a cool and dynamic front-end, consider using CSS frameworks like **Tailwind CSS** or **Bootstrap** for styling and layout. For animations, **Framer Motion** (for React) or **Animate.css** can be used to add sophisticated animations to your web app.\n",
      "\n",
      "### Back-End\n",
      "\n",
      "**Django:**\n",
      "- As for the backend, Django is a high-level Python web framework that encourages rapid development and clean, pragmatic design. It's a good choice for your project because it comes with an ORM (Object-Relational Mapping) for database interactions, built-in security features, and it can handle server-side logic and user authentication effectively.\n",
      "\n",
      "### Integration\n",
      "\n",
      "For a seamless integration between your Django backend and React front-end, you have a couple of options:\n",
      "\n",
      "**1. Django REST Framework:** Design your Django application as a REST API that the React front-end can consume. This is a common pattern that decouples the front end from the back end, allowing each to evolve independently.\n",
      "\n",
      "**2. Django + Webpack Loader:** Another approach is to use Django to serve your React application directly, using tools like django-webpack-loader to integrate React's build output with Django's templates.\n",
      "\n",
      "### Development Tools\n",
      "\n",
      "- **Git** for version control.\n",
      "- **Webpack** and **Babel** for bundling and transpiling your JavaScript/TypeScript code.\n",
      "- **ESLint** and **Prettier** for code quality and formatting.\n",
      "\n",
      "This tech stack and these tools should give you a good foundation to start your sports analytical web application. Remember, the specific libraries and tools you choose should be based on your project's specific needs, your team's familiarity with the technology, and the complexity of the visualizations you plan to implement.\n"
     ]
    }
   ],
   "source": [
    "for message in reversed(messages.data):\n",
    "    print(message.role + \": \" + message.content[0].text.value)"
   ]
  },
  {
   "cell_type": "code",
   "execution_count": 10,
   "metadata": {},
   "outputs": [
    {
     "name": "stdout",
     "output_type": "stream",
     "text": [
      "asst_hVWb6bxyIlMcBJXecZjArbAT\n"
     ]
    }
   ],
   "source": [
    "print(assistant.id)"
   ]
  }
 ],
 "metadata": {
  "kernelspec": {
   "display_name": "googleenv",
   "language": "python",
   "name": "python3"
  },
  "language_info": {
   "codemirror_mode": {
    "name": "ipython",
    "version": 3
   },
   "file_extension": ".py",
   "mimetype": "text/x-python",
   "name": "python",
   "nbconvert_exporter": "python",
   "pygments_lexer": "ipython3",
   "version": "3.12.1"
  }
 },
 "nbformat": 4,
 "nbformat_minor": 2
}
