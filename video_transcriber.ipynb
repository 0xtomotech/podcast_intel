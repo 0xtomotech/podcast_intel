{
  "cells": [
    {
      "cell_type": "markdown",
      "metadata": {},
      "source": [
        "## Transcriber Script: MP3 to TXT\n",
        "This is a sample run, executed using Google Collab T4 GPU, and mounted Google Drive."
      ]
    },
    {
      "cell_type": "code",
      "execution_count": null,
      "metadata": {
        "colab": {
          "base_uri": "https://localhost:8080/"
        },
        "id": "bWC5XcX9Ez_W",
        "outputId": "a79f1c03-1129-44dd-aa0a-affe2bc0a1f4"
      },
      "outputs": [
        {
          "name": "stdout",
          "output_type": "stream",
          "text": [
            "hellow world\n"
          ]
        }
      ],
      "source": [
        "print('hellow world')"
      ]
    },
    {
      "cell_type": "code",
      "execution_count": null,
      "metadata": {
        "colab": {
          "base_uri": "https://localhost:8080/"
        },
        "id": "ZwE88D2vI3fR",
        "outputId": "b8920db7-97d6-40f5-8e83-029f6ac2fb0f"
      },
      "outputs": [
        {
          "name": "stdout",
          "output_type": "stream",
          "text": [
            "Collecting openai\n",
            "  Downloading openai-1.8.0-py3-none-any.whl (222 kB)\n",
            "\u001b[?25l     \u001b[90m━━━━━━━━━━━━━━━━━━━━━━━━━━━━━━━━━━━━━━━━\u001b[0m \u001b[32m0.0/222.3 kB\u001b[0m \u001b[31m?\u001b[0m eta \u001b[36m-:--:--\u001b[0m\r\u001b[2K     \u001b[91m━━━━━━━━━━━\u001b[0m\u001b[90m╺\u001b[0m\u001b[90m━━━━━━━━━━━━━━━━━━━━━━━━━━━━\u001b[0m \u001b[32m61.4/222.3 kB\u001b[0m \u001b[31m1.8 MB/s\u001b[0m eta \u001b[36m0:00:01\u001b[0m\r\u001b[2K     \u001b[90m━━━━━━━━━━━━━━━━━━━━━━━━━━━━━━━━━━━━━━━━\u001b[0m \u001b[32m222.3/222.3 kB\u001b[0m \u001b[31m4.0 MB/s\u001b[0m eta \u001b[36m0:00:00\u001b[0m\n",
            "\u001b[?25hRequirement already satisfied: anyio<5,>=3.5.0 in /usr/local/lib/python3.10/dist-packages (from openai) (3.7.1)\n",
            "Requirement already satisfied: distro<2,>=1.7.0 in /usr/lib/python3/dist-packages (from openai) (1.7.0)\n",
            "Collecting httpx<1,>=0.23.0 (from openai)\n",
            "  Downloading httpx-0.26.0-py3-none-any.whl (75 kB)\n",
            "\u001b[2K     \u001b[90m━━━━━━━━━━━━━━━━━━━━━━━━━━━━━━━━━━━━━━━━\u001b[0m \u001b[32m75.9/75.9 kB\u001b[0m \u001b[31m10.7 MB/s\u001b[0m eta \u001b[36m0:00:00\u001b[0m\n",
            "\u001b[?25hRequirement already satisfied: pydantic<3,>=1.9.0 in /usr/local/lib/python3.10/dist-packages (from openai) (1.10.13)\n",
            "Requirement already satisfied: sniffio in /usr/local/lib/python3.10/dist-packages (from openai) (1.3.0)\n",
            "Requirement already satisfied: tqdm>4 in /usr/local/lib/python3.10/dist-packages (from openai) (4.66.1)\n",
            "Collecting typing-extensions<5,>=4.7 (from openai)\n",
            "  Downloading typing_extensions-4.9.0-py3-none-any.whl (32 kB)\n",
            "Requirement already satisfied: idna>=2.8 in /usr/local/lib/python3.10/dist-packages (from anyio<5,>=3.5.0->openai) (3.6)\n",
            "Requirement already satisfied: exceptiongroup in /usr/local/lib/python3.10/dist-packages (from anyio<5,>=3.5.0->openai) (1.2.0)\n",
            "Requirement already satisfied: certifi in /usr/local/lib/python3.10/dist-packages (from httpx<1,>=0.23.0->openai) (2023.11.17)\n",
            "Collecting httpcore==1.* (from httpx<1,>=0.23.0->openai)\n",
            "  Downloading httpcore-1.0.2-py3-none-any.whl (76 kB)\n",
            "\u001b[2K     \u001b[90m━━━━━━━━━━━━━━━━━━━━━━━━━━━━━━━━━━━━━━━━\u001b[0m \u001b[32m76.9/76.9 kB\u001b[0m \u001b[31m11.2 MB/s\u001b[0m eta \u001b[36m0:00:00\u001b[0m\n",
            "\u001b[?25hCollecting h11<0.15,>=0.13 (from httpcore==1.*->httpx<1,>=0.23.0->openai)\n",
            "  Downloading h11-0.14.0-py3-none-any.whl (58 kB)\n",
            "\u001b[2K     \u001b[90m━━━━━━━━━━━━━━━━━━━━━━━━━━━━━━━━━━━━━━━━\u001b[0m \u001b[32m58.3/58.3 kB\u001b[0m \u001b[31m9.1 MB/s\u001b[0m eta \u001b[36m0:00:00\u001b[0m\n",
            "\u001b[?25hInstalling collected packages: typing-extensions, h11, httpcore, httpx, openai\n",
            "  Attempting uninstall: typing-extensions\n",
            "    Found existing installation: typing_extensions 4.5.0\n",
            "    Uninstalling typing_extensions-4.5.0:\n",
            "      Successfully uninstalled typing_extensions-4.5.0\n",
            "\u001b[31mERROR: pip's dependency resolver does not currently take into account all the packages that are installed. This behaviour is the source of the following dependency conflicts.\n",
            "llmx 0.0.15a0 requires cohere, which is not installed.\n",
            "llmx 0.0.15a0 requires tiktoken, which is not installed.\n",
            "tensorflow-probability 0.22.0 requires typing-extensions<4.6.0, but you have typing-extensions 4.9.0 which is incompatible.\u001b[0m\u001b[31m\n",
            "\u001b[0mSuccessfully installed h11-0.14.0 httpcore-1.0.2 httpx-0.26.0 openai-1.8.0 typing-extensions-4.9.0\n"
          ]
        }
      ],
      "source": [
        "!pip install openai"
      ]
    },
    {
      "cell_type": "code",
      "execution_count": null,
      "metadata": {
        "colab": {
          "base_uri": "https://localhost:8080/"
        },
        "id": "LC4zQ9PhE7ir",
        "outputId": "fd86f1fc-2ee6-47f2-d3c9-c5f4932d503d"
      },
      "outputs": [
        {
          "name": "stdout",
          "output_type": "stream",
          "text": [
            "Collecting git+https://github.com/openai/whisper.git\n",
            "  Cloning https://github.com/openai/whisper.git to /tmp/pip-req-build-4ainle9m\n",
            "  Running command git clone --filter=blob:none --quiet https://github.com/openai/whisper.git /tmp/pip-req-build-4ainle9m\n",
            "  Resolved https://github.com/openai/whisper.git to commit ba3f3cd54b0e5b8ce1ab3de13e32122d0d5f98ab\n",
            "  Installing build dependencies ... \u001b[?25l\u001b[?25hdone\n",
            "  Getting requirements to build wheel ... \u001b[?25l\u001b[?25hdone\n",
            "  Preparing metadata (pyproject.toml) ... \u001b[?25l\u001b[?25hdone\n",
            "Requirement already satisfied: numba in /usr/local/lib/python3.10/dist-packages (from openai-whisper==20231117) (0.58.1)\n",
            "Requirement already satisfied: numpy in /usr/local/lib/python3.10/dist-packages (from openai-whisper==20231117) (1.23.5)\n",
            "Requirement already satisfied: torch in /usr/local/lib/python3.10/dist-packages (from openai-whisper==20231117) (2.1.0+cu121)\n",
            "Requirement already satisfied: tqdm in /usr/local/lib/python3.10/dist-packages (from openai-whisper==20231117) (4.66.1)\n",
            "Requirement already satisfied: more-itertools in /usr/local/lib/python3.10/dist-packages (from openai-whisper==20231117) (10.1.0)\n",
            "Collecting tiktoken (from openai-whisper==20231117)\n",
            "  Downloading tiktoken-0.5.2-cp310-cp310-manylinux_2_17_x86_64.manylinux2014_x86_64.whl (2.0 MB)\n",
            "\u001b[2K     \u001b[90m━━━━━━━━━━━━━━━━━━━━━━━━━━━━━━━━━━━━━━━━\u001b[0m \u001b[32m2.0/2.0 MB\u001b[0m \u001b[31m9.9 MB/s\u001b[0m eta \u001b[36m0:00:00\u001b[0m\n",
            "\u001b[?25hRequirement already satisfied: triton<3,>=2.0.0 in /usr/local/lib/python3.10/dist-packages (from openai-whisper==20231117) (2.1.0)\n",
            "Requirement already satisfied: filelock in /usr/local/lib/python3.10/dist-packages (from triton<3,>=2.0.0->openai-whisper==20231117) (3.13.1)\n",
            "Requirement already satisfied: llvmlite<0.42,>=0.41.0dev0 in /usr/local/lib/python3.10/dist-packages (from numba->openai-whisper==20231117) (0.41.1)\n",
            "Requirement already satisfied: regex>=2022.1.18 in /usr/local/lib/python3.10/dist-packages (from tiktoken->openai-whisper==20231117) (2023.6.3)\n",
            "Requirement already satisfied: requests>=2.26.0 in /usr/local/lib/python3.10/dist-packages (from tiktoken->openai-whisper==20231117) (2.31.0)\n",
            "Requirement already satisfied: typing-extensions in /usr/local/lib/python3.10/dist-packages (from torch->openai-whisper==20231117) (4.9.0)\n",
            "Requirement already satisfied: sympy in /usr/local/lib/python3.10/dist-packages (from torch->openai-whisper==20231117) (1.12)\n",
            "Requirement already satisfied: networkx in /usr/local/lib/python3.10/dist-packages (from torch->openai-whisper==20231117) (3.2.1)\n",
            "Requirement already satisfied: jinja2 in /usr/local/lib/python3.10/dist-packages (from torch->openai-whisper==20231117) (3.1.3)\n",
            "Requirement already satisfied: fsspec in /usr/local/lib/python3.10/dist-packages (from torch->openai-whisper==20231117) (2023.6.0)\n",
            "Requirement already satisfied: charset-normalizer<4,>=2 in /usr/local/lib/python3.10/dist-packages (from requests>=2.26.0->tiktoken->openai-whisper==20231117) (3.3.2)\n",
            "Requirement already satisfied: idna<4,>=2.5 in /usr/local/lib/python3.10/dist-packages (from requests>=2.26.0->tiktoken->openai-whisper==20231117) (3.6)\n",
            "Requirement already satisfied: urllib3<3,>=1.21.1 in /usr/local/lib/python3.10/dist-packages (from requests>=2.26.0->tiktoken->openai-whisper==20231117) (2.0.7)\n",
            "Requirement already satisfied: certifi>=2017.4.17 in /usr/local/lib/python3.10/dist-packages (from requests>=2.26.0->tiktoken->openai-whisper==20231117) (2023.11.17)\n",
            "Requirement already satisfied: MarkupSafe>=2.0 in /usr/local/lib/python3.10/dist-packages (from jinja2->torch->openai-whisper==20231117) (2.1.3)\n",
            "Requirement already satisfied: mpmath>=0.19 in /usr/local/lib/python3.10/dist-packages (from sympy->torch->openai-whisper==20231117) (1.3.0)\n",
            "Building wheels for collected packages: openai-whisper\n",
            "  Building wheel for openai-whisper (pyproject.toml) ... \u001b[?25l\u001b[?25hdone\n",
            "  Created wheel for openai-whisper: filename=openai_whisper-20231117-py3-none-any.whl size=802825 sha256=3a3eb7fc3a7f2de23697309c119a42a5e8a3366d4d98a77b522808c229a800e1\n",
            "  Stored in directory: /tmp/pip-ephem-wheel-cache-kptm_psh/wheels/8b/6c/d0/622666868c179f156cf595c8b6f06f88bc5d80c4b31dccaa03\n",
            "Successfully built openai-whisper\n",
            "Installing collected packages: tiktoken, openai-whisper\n",
            "\u001b[31mERROR: pip's dependency resolver does not currently take into account all the packages that are installed. This behaviour is the source of the following dependency conflicts.\n",
            "llmx 0.0.15a0 requires cohere, which is not installed.\u001b[0m\u001b[31m\n",
            "\u001b[0mSuccessfully installed openai-whisper-20231117 tiktoken-0.5.2\n"
          ]
        }
      ],
      "source": [
        "!pip install git+https://github.com/openai/whisper.git"
      ]
    },
    {
      "cell_type": "code",
      "execution_count": null,
      "metadata": {
        "colab": {
          "base_uri": "https://localhost:8080/"
        },
        "id": "OjkLUibIKHAa",
        "outputId": "aa6295d9-75a3-448c-fcbc-21e934423f22"
      },
      "outputs": [
        {
          "name": "stdout",
          "output_type": "stream",
          "text": [
            "\u001b[33m\r0% [Working]\u001b[0m\r            \rHit:1 http://archive.ubuntu.com/ubuntu jammy InRelease\n",
            "\u001b[33m\r0% [Waiting for headers] [Connected to cloud.r-project.org (108.157.162.110)] [\u001b[0m\r                                                                               \rGet:2 http://security.ubuntu.com/ubuntu jammy-security InRelease [110 kB]\n",
            "\u001b[33m\r0% [Waiting for headers] [2 InRelease 14.2 kB/110 kB 13%] [Waiting for headers]\u001b[0m\r                                                                               \rGet:3 http://archive.ubuntu.com/ubuntu jammy-updates InRelease [119 kB]\n",
            "\u001b[33m\r0% [3 InRelease 12.7 kB/119 kB 11%] [2 InRelease 17.1 kB/110 kB 15%] [Waiting f\u001b[0m\r                                                                               \rGet:4 https://developer.download.nvidia.com/compute/cuda/repos/ubuntu2204/x86_64  InRelease [1,581 B]\n",
            "\u001b[33m\r0% [3 InRelease 15.6 kB/119 kB 13%] [2 InRelease 43.1 kB/110 kB 39%] [Waiting f\u001b[0m\r                                                                               \rGet:5 https://cloud.r-project.org/bin/linux/ubuntu jammy-cran40/ InRelease [3,626 B]\n",
            "Get:6 http://archive.ubuntu.com/ubuntu jammy-backports InRelease [109 kB]\n",
            "Get:7 https://developer.download.nvidia.com/compute/cuda/repos/ubuntu2204/x86_64  Packages [662 kB]\n",
            "Hit:8 https://ppa.launchpadcontent.net/c2d4u.team/c2d4u4.0+/ubuntu jammy InRelease\n",
            "Get:9 http://security.ubuntu.com/ubuntu jammy-security/main amd64 Packages [1,344 kB]\n",
            "Hit:10 https://ppa.launchpadcontent.net/deadsnakes/ppa/ubuntu jammy InRelease\n",
            "Get:11 http://archive.ubuntu.com/ubuntu jammy-updates/multiverse amd64 Packages [50.4 kB]\n",
            "Get:12 http://archive.ubuntu.com/ubuntu jammy-updates/universe amd64 Packages [1,316 kB]\n",
            "Hit:13 https://ppa.launchpadcontent.net/graphics-drivers/ppa/ubuntu jammy InRelease\n",
            "Get:14 http://security.ubuntu.com/ubuntu jammy-security/universe amd64 Packages [1,055 kB]\n",
            "Get:15 http://security.ubuntu.com/ubuntu jammy-security/restricted amd64 Packages [1,600 kB]\n",
            "Get:16 http://archive.ubuntu.com/ubuntu jammy-updates/main amd64 Packages [1,621 kB]\n",
            "Hit:17 https://ppa.launchpadcontent.net/ubuntugis/ppa/ubuntu jammy InRelease\n",
            "Get:18 http://archive.ubuntu.com/ubuntu jammy-backports/main amd64 Packages [78.7 kB]\n",
            "Get:19 http://archive.ubuntu.com/ubuntu jammy-backports/universe amd64 Packages [32.7 kB]\n",
            "Fetched 8,102 kB in 1s (6,369 kB/s)\n",
            "Reading package lists... Done\n",
            "Building dependency tree... Done\n",
            "Reading state information... Done\n",
            "29 packages can be upgraded. Run 'apt list --upgradable' to see them.\n",
            "Reading package lists... Done\n",
            "Building dependency tree... Done\n",
            "Reading state information... Done\n",
            "ffmpeg is already the newest version (7:4.4.2-0ubuntu0.22.04.1).\n",
            "0 upgraded, 0 newly installed, 0 to remove and 29 not upgraded.\n"
          ]
        }
      ],
      "source": [
        "!sudo apt update && sudo apt install ffmpeg"
      ]
    },
    {
      "cell_type": "code",
      "execution_count": null,
      "metadata": {
        "colab": {
          "base_uri": "https://localhost:8080/"
        },
        "id": "CcLGL681KLiC",
        "outputId": "b115542c-8a3d-46e5-d793-3e2ee8d940df"
      },
      "outputs": [
        {
          "name": "stdout",
          "output_type": "stream",
          "text": [
            "100%|████████████████████████████████████████| 461M/461M [00:02<00:00, 181MiB/s]\n",
            "Detecting language using up to the first 30 seconds. Use `--language` to specify the language\n",
            "Detected language: English\n",
            "[00:00.000 --> 00:03.600]  Greatest sports agitators. Just think of people you hate.\n",
            "[00:03.600 --> 00:06.960]  No, no, no, no. What's the guy's name? The little guy from the Denver Nuggets.\n",
            "[00:06.960 --> 00:09.120]  He's in Europe and he, FACO.\n",
            "[00:09.120 --> 00:11.040]  Oh, what a pick.\n",
            "[00:11.040 --> 00:13.280]  Can't stand him. Great European player though.\n",
            "[00:13.280 --> 00:14.880]  That's a great first-round pick.\n",
            "[00:14.880 --> 00:18.480]  Can't stand him. Wish him the best in Europe. I hope my brother gets to play against him.\n"
          ]
        }
      ],
      "source": [
        "!whisper \"/content/drive/MyDrive/NBAvideos/JJRedick_20230217_The most annoying NBA player according to CJ McCollum.mp3\" --model small"
      ]
    },
    {
      "cell_type": "code",
      "execution_count": null,
      "metadata": {
        "colab": {
          "base_uri": "https://localhost:8080/"
        },
        "id": "vt5DiNpG4smh",
        "outputId": "8b5bf9ca-628a-44d0-f7cf-f4ced48f9bb6"
      },
      "outputs": [
        {
          "name": "stdout",
          "output_type": "stream",
          "text": [
            "100%|██████████████████████████████████████| 1.42G/1.42G [00:11<00:00, 128MiB/s]\n"
          ]
        }
      ],
      "source": [
        "!whisper \"/content/drive/MyDrive/NBAvideos/JJRedick_long_20230203_Darius Garland On The Cavs Title Hopes, Donovan's 71 AND The Coaching Series w⧸ J.B. Bickerstaff.mp3\" --model medium > \"/content/drive/MyDrive/NBAvideos/JJRedick_long_20230203_Darius Garland On The Cavs Title Hopes, Donovan's 71 AND The Coaching Series w⧸ J.B. BickerstaffV2.txt\""
      ]
    },
    {
      "cell_type": "code",
      "execution_count": null,
      "metadata": {
        "colab": {
          "base_uri": "https://localhost:8080/"
        },
        "id": "-StFNRt9NigA",
        "outputId": "b44ab7ee-1f79-4f04-b3b7-9c929353b57a"
      },
      "outputs": [
        {
          "name": "stdout",
          "output_type": "stream",
          "text": [
            "finished transcribing /content/drive/MyDrive/NBAvideos/JJRedick_20230203_Why De'Aaron Fox Should’ve Been An #nbaallstar.mp3.\n",
            "finished transcribing /content/drive/MyDrive/NBAvideos/JJRedick_20230205_Luka on the one player he's jealous of....mp3.\n",
            "finished transcribing /content/drive/MyDrive/NBAvideos/JJRedick_20230203_＂I Could Get You 15 Points＂ - Can JJ Redick Still Play In The NBA？ 🤔.mp3.\n",
            "finished transcribing /content/drive/MyDrive/NBAvideos/JJRedick_20230211_Why Ty Lue Used To Hate JJ Redick 😳😅.mp3.\n",
            "finished transcribing /content/drive/MyDrive/NBAvideos/JJRedick_20230213_Klay was NOT about to sacrifice for KD 🤣.mp3.\n",
            "finished transcribing /content/drive/MyDrive/NBAvideos/JJRedick_20230217_The most annoying NBA player according to CJ McCollum.mp3.\n",
            "finished transcribing /content/drive/MyDrive/NBAvideos/JJRedick_20230217_Giannis vs. Jokic vs. Embiid - Who wins MVP？？ 🤔.mp3.\n",
            "finished transcribing /content/drive/MyDrive/NBAvideos/JJRedick_20230219_Jose Alvarado On The First Time He Challenged Zion Williamson At The Rim 😳.mp3.\n",
            "finished transcribing /content/drive/MyDrive/NBAvideos/JJRedick_20230220_Blake Griffin is BAFFLED By Kevin Durant.mp3.\n",
            "finished transcribing /content/drive/MyDrive/NBAvideos/JJRedick_20230221_How Russ Could Actually Help The Clippers....mp3.\n",
            "finished transcribing /content/drive/MyDrive/NBAvideos/JJRedick_20230221_CJ McCollum Calls Out A Bandwagon Suns Fan In New Orleans 🤣😂.mp3.\n",
            "finished transcribing /content/drive/MyDrive/NBAvideos/JJRedick_20230219_＂How Do You Do That？!＂ - The SECRET To Damian Lillard's Deep 3-Point Shot.mp3.\n",
            "finished transcribing /content/drive/MyDrive/NBAvideos/JJRedick_20230221_Why Jayson Tatum LOVES Playing With Jaylen Brown.mp3.\n",
            "finished transcribing /content/drive/MyDrive/NBAvideos/JJRedick_20230225_Dwyane Wade On Why Kobe Is HIS GOAT 🐐.mp3.\n",
            "finished transcribing /content/drive/MyDrive/NBAvideos/JJRedick_20230225_“Listen to MJ” - Why JJ Redick HATES Comparing Eras.mp3.\n",
            "finished transcribing /content/drive/MyDrive/NBAvideos/JJRedick_20230226_Paolo Banchero On Getting Paid In College.mp3.\n",
            "finished transcribing /content/drive/MyDrive/NBAvideos/JJRedick_20230226_“Now That You’ve Been Traded, Who Is Your LEAST Favorite Suns Teammate？” 😭💀 #mikalbridges.mp3.\n",
            "finished transcribing /content/drive/MyDrive/NBAvideos/JJRedick_20230304_＂Is He F＊＊king Made Of Steel？？＂ - JJ On Being Matched-Up Against Kawhi Leonard 💪🤖.mp3.\n",
            "finished transcribing /content/drive/MyDrive/NBAvideos/JJRedick_20230317_Where Does Dame's Shooting Range REALLY End？ 😮.mp3.\n",
            "finished transcribing /content/drive/MyDrive/NBAvideos/JJRedick_20230320_Paul George On THAT LeBron Blow By and Birdman Dunk 😤.mp3.\n",
            "finished transcribing /content/drive/MyDrive/NBAvideos/JJRedick_20230401_Guess Who Has An MVP Vote This Season... 😎.mp3.\n",
            "finished transcribing /content/drive/MyDrive/NBAvideos/JJRedick_20230401_Which LeBron Is PEAK LeBron？？ 🤔.mp3.\n",
            "finished transcribing /content/drive/MyDrive/NBAvideos/JJRedick_20230424_GET WELL SOON, VIC 🙏.mp3.\n",
            "finished transcribing /content/drive/MyDrive/NBAvideos/JJRedick_20230430_THIS Is The Best Version Of Steph Curry？! 🤯 ｜ JJ Redick.mp3.\n",
            "finished transcribing /content/drive/MyDrive/NBAvideos/JJRedick_20230508_＂James Harden Is A GENERATIONAL Player＂ - JJ Redick Giving Harden His Flowers 💐.mp3.\n",
            "finished transcribing /content/drive/MyDrive/NBAvideos/JJRedick_20230513_KD On How Centers Like Jokic and Embiid Changed The NBA Forever.mp3.\n",
            "finished transcribing /content/drive/MyDrive/NBAvideos/JJRedick_20230509_What Makes The Miami Heat's Zone Defense Unlike Any Other In The NBA 🔥🛑.mp3.\n",
            "finished transcribing /content/drive/MyDrive/NBAvideos/JJRedick_20230509_JR Smith's FAVORITE Allen Iverson Moment Ever 🤣.mp3.\n",
            "finished transcribing /content/drive/MyDrive/NBAvideos/JJRedick_20230516_Is JJ The Real LeBron FINALS Stopper？ 😂.mp3.\n",
            "finished transcribing /content/drive/MyDrive/NBAvideos/JJRedick_20230604_MPJ On Those CRAZY Jokic Moonball Shots 🌙 🏀.mp3.\n",
            "finished transcribing /content/drive/MyDrive/NBAvideos/JJRedick_20230702_JJ GOES OFF ABOUT DILLON BROOKS HATERS 🤬.mp3.\n",
            "finished transcribing /content/drive/MyDrive/NBAvideos/JJRedick_20230804_＂DELLY ALMOST DIED GUARDING STEPH＂ - JR Smith On Matthew Dellavedova.mp3.\n",
            "finished transcribing /content/drive/MyDrive/NBAvideos/JJRedick_20230807_Luka On Not Going #1.mp3.\n",
            "finished transcribing /content/drive/MyDrive/NBAvideos/JJRedick_20230807_＂How Was I NOT Worried？＂ - Dame On That ICONIC Game Winner On The Rockets.mp3.\n",
            "finished transcribing /content/drive/MyDrive/NBAvideos/JJRedick_20230810_Steven Adams On Getting Nut Checked By Draymond Green 😣.mp3.\n",
            "finished transcribing /content/drive/MyDrive/NBAvideos/JJRedick_20230802_＂I FEEL DIRECTLY RESPONSIBLE FOR THEIR SUCCESS＂ - Richard Jefferson On The Warriors 😭😭😭.mp3.\n",
            "finished transcribing /content/drive/MyDrive/NBAvideos/JJRedick_20230831_Rondo And LeBron Had A Wild Strategy Heading Into The 2020 Finals... 🤯.mp3.\n",
            "finished transcribing /content/drive/MyDrive/NBAvideos/JJRedick_20230911_＂Ask D-Wade If 2008 Was Easy＂ - JJ On Just How TOUGH It Is For Team USA To Win Gold 🥇.mp3.\n",
            "finished transcribing /content/drive/MyDrive/NBAvideos/JJRedick_20231021_＂YOU WOULD'VE MADE A GAZZILLION DOLLARS - Rich Paul On How Much JJ Would've Made On NIL At Duke.mp3.\n",
            "finished transcribing /content/drive/MyDrive/NBAvideos/JJRedick_20231118_JJ Loves Payton Pritchard.mp3.\n",
            "finished transcribing /content/drive/MyDrive/NBAvideos/JJRedick_20231209_KP knows about the Tingus Pingus video 😭😭.mp3.\n",
            "finished transcribing /content/drive/MyDrive/NBAvideos/JJRedick_20231210_Tommy took our 100K Subscriber plaque to his apartment and never gave it back 😭💀.mp3.\n",
            "finished transcribing /content/drive/MyDrive/NBAvideos/JJRedick_20231214_＂Egregious and Out of Pocket＂ - JJ on Draymond Green Hitting Jusuf Nurkić.mp3.\n",
            "finished transcribing /content/drive/MyDrive/NBAvideos/JJRedick_20231216_Eric Gordon on the Rockets Missing 27 Straight 3s.mp3.\n",
            "finished transcribing /content/drive/MyDrive/NBAvideos/JJRedick_20231217_This is how you heckle JJ Redick 😭.mp3.\n",
            "finished transcribing /content/drive/MyDrive/NBAvideos/JJRedick_20231224_Austin Reaves knows people are telling him to cut his hair.mp3.\n",
            "finished transcribing /content/drive/MyDrive/NBAvideos/JJRedick_20240109_Let's Talk About the Rookies (Vol. 2!)： Wemby, Scoot, Podz, and More ｜ The Dunker Spot.mp3.\n",
            "finished transcribing /content/drive/MyDrive/NBAvideos/JJRedick_20240113_What’s you favorite DAME TIME moment？  #nba.mp3.\n",
            "finished transcribing /content/drive/MyDrive/NBAvideos/JJRedick_20240114_Anfernee’s working on that Limitless Range badge 🫣.mp3.\n",
            "finished transcribing /content/drive/MyDrive/NBAvideos/JJRedick_20240113_The Suns Are One of the Worst 4th Quarter Team in The NBA... How Did This Happen？.mp3.\n",
            "finished transcribing /content/drive/MyDrive/NBAvideos/JJRedick_20240112_Are The Clippers The Favorite In The West？？.mp3.\n",
            "finished transcribing /content/drive/MyDrive/NBAvideos/JJRedick_20240114_What's The Greatest Dame Time Moment Ever？ ｜ JJ Redick and Anfernee Simons.mp3.\n",
            "finished transcribing /content/drive/MyDrive/NBAvideos/JJRedick_20240116_JJ was recently approached about joining an NBA roster 👀.mp3.\n",
            "finished transcribing /content/drive/MyDrive/NBAvideos/JJRedick_20240116_Chet Holmgren is the Rookie of the Year (Right Now).mp3.\n",
            "finished transcribing /content/drive/MyDrive/NBAvideos/JJRedick_20240116_The traditional point guard is a dying breed #nba.mp3.\n",
            "finished transcribing /content/drive/MyDrive/NBAvideos/JJRedick_20240115_Our Concerns For the Lakers, Warriors, and Suns. Plus, Chet vs Wemby for ROY ｜ OM3 THINGS.mp3.\n",
            "finished transcribing /content/drive/MyDrive/NBAvideos/JJRedick_20240116_Everything That's Right With the Jazz and Wrong With the Hawks ｜ The Dunker Spot.mp3.\n"
          ]
        }
      ],
      "source": [
        "import os\n",
        "from glob import glob\n",
        "\n",
        "# Folder where your MP3 files are stored\n",
        "folder_path = '/content/drive/MyDrive/NBAvideos/'\n",
        "\n",
        "# Prefix filter\n",
        "prefix_filter = 'JJRedick'\n",
        "\n",
        "# Number of files to process\n",
        "# n_files_to_process = 15\n",
        "\n",
        "# Get a list of all MP3 files in the folder\n",
        "mp3_files = glob(os.path.join(folder_path, '*.mp3'))\n",
        "\n",
        "# Filter files by prefix and limit the number to process\n",
        "filtered_files = [file for file in mp3_files if os.path.basename(file).startswith(prefix_filter)]\n",
        "# filtered_files = filtered_files[:n_files_to_process]\n",
        "\n",
        "# Loop over each file\n",
        "for mp3_file in filtered_files:\n",
        "    # Construct the output filename (change extension to .txt)\n",
        "    base_name = os.path.basename(mp3_file)\n",
        "    txt_filename = os.path.splitext(base_name)[0] + '.txt'\n",
        "    output_path = os.path.join(folder_path, txt_filename)\n",
        "\n",
        "    # Run Whisper on the file and redirect output to a txt file\n",
        "    !whisper \"$mp3_file\" --model small > \"$output_path\"\n",
        "    print(f'finished transcribing {mp3_file}.')\n",
        "    print(f'progress: ')"
      ]
    },
    {
      "cell_type": "code",
      "execution_count": null,
      "metadata": {
        "colab": {
          "base_uri": "https://localhost:8080/"
        },
        "id": "6zAmkvGGCCkE",
        "outputId": "76f83d0f-0ac5-430f-a724-f28caff1070c"
      },
      "outputs": [],
      "source": [
        "import os\n",
        "from glob import glob\n",
        "import time\n",
        "\n",
        "# Folder where your MP3 files are stored\n",
        "folder_path = '/content/drive/MyDrive/NBAvideos/'\n",
        "\n",
        "# Prefix filter \n",
        "prefix_filter = 'Thinking'\n",
        "\n",
        "# Get a list of all MP3 files in the folder\n",
        "mp3_files = glob(os.path.join(folder_path, '*.mp3'))\n",
        "\n",
        "# Filter files by prefix\n",
        "filtered_files = [file for file in mp3_files if os.path.basename(file).startswith(prefix_filter)]\n",
        "\n",
        "# Total number of files to process\n",
        "total_files = len(filtered_files)\n",
        "\n",
        "# Initialize variables for tracking time\n",
        "total_time = 0\n",
        "\n",
        "# Loop over each file and keep track of the number processed\n",
        "for index, mp3_file in enumerate(filtered_files, start=1):\n",
        "    start_time = time.time()\n",
        "\n",
        "    # Construct the output filename (change extension to .txt)\n",
        "    base_name = os.path.basename(mp3_file)\n",
        "    txt_filename = os.path.splitext(base_name)[0] + '.txt'\n",
        "    output_path = os.path.join(folder_path, txt_filename)\n",
        "\n",
        "    # Run Whisper on the file and redirect output to a txt file\n",
        "    !whisper \"$mp3_file\" --model small > \"$output_path\"\n",
        "\n",
        "    # Calculate time taken for this transcription\n",
        "    transcription_time = time.time() - start_time\n",
        "    total_time += transcription_time\n",
        "\n",
        "    # Calculate average time per file\n",
        "    average_time_per_file = total_time / index\n",
        "\n",
        "    # Estimate time left\n",
        "    time_left = average_time_per_file * (total_files - index)\n",
        "\n",
        "    # Print progress\n",
        "    progress_percentage = (index / total_files) * 100\n",
        "    print(f'finished transcribing {mp3_file}.')\n",
        "    print(f'Progress: {index} / {total_files} files, {progress_percentage:.2f}%')\n",
        "    print(f'Average time per file: {average_time_per_file:.2f} seconds')\n",
        "    print(f'Estimated time left: {time_left:.2f} seconds')"
      ]
    }
  ],
  "metadata": {
    "accelerator": "GPU",
    "colab": {
      "gpuType": "T4",
      "provenance": []
    },
    "kernelspec": {
      "display_name": "Python 3",
      "name": "python3"
    },
    "language_info": {
      "name": "python"
    }
  },
  "nbformat": 4,
  "nbformat_minor": 0
}
