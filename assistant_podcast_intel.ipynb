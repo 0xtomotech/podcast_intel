{
 "cells": [
  {
   "cell_type": "code",
   "execution_count": 2,
   "metadata": {},
   "outputs": [],
   "source": [
    "from openai import OpenAI\n",
    "import os\n",
    "import time\n",
    "\n",
    "api_key = os.getenv(\"OPENAI_API_KEY\")\n",
    "client = OpenAI(api_key=api_key)"
   ]
  },
  {
   "cell_type": "markdown",
   "metadata": {},
   "source": [
    "Upload files to OpenAI"
   ]
  },
  {
   "cell_type": "code",
   "execution_count": 3,
   "metadata": {},
   "outputs": [
    {
     "name": "stdout",
     "output_type": "stream",
     "text": [
      "FileObject(id='file-Ynjk9fq3wxZG7LJjIZ2vvySY', bytes=381203, created_at=1706618503, filename='ThinkingBasketball_202306-202401.txt', object='file', purpose='assistants', status='processed', status_details=None)\n"
     ]
    }
   ],
   "source": [
    "file = client.files.create(\n",
    "    file = open(\"text_library/ThinkingBasketball_202306-202401.txt\", \"rb\"),\n",
    "    purpose = \"assistants\"\n",
    ")\n",
    "print(file)"
   ]
  },
  {
   "cell_type": "markdown",
   "metadata": {},
   "source": [
    "Create Assistant"
   ]
  },
  {
   "cell_type": "code",
   "execution_count": 4,
   "metadata": {},
   "outputs": [
    {
     "name": "stdout",
     "output_type": "stream",
     "text": [
      "File ID: file-Ynjk9fq3wxZG7LJjIZ2vvySY\n",
      "Assistand ID: asst_Jf6bGHwnyaSC0UF14MY6jUTD\n"
     ]
    }
   ],
   "source": [
    "assistant = client.beta.assistants.create(\n",
    "    name = \"NBA Podcast Intelligence GPT\",\n",
    "    instructions = \"You are an expert in basketball / NBA sport analytics, social media content analysis. You are also expert in producing market research reports based on the transcript files in your knowledge base.\",\n",
    "    tools = [{\"type\": \"retrieval\"}],\n",
    "    model = \"gpt-4-0125-preview\",\n",
    "    file_ids =  [file.id]\n",
    ")\n",
    "print(f\"File ID: {file.id}\")\n",
    "print(f\"Assistand ID: {assistant.id}\")"
   ]
  },
  {
   "cell_type": "markdown",
   "metadata": {},
   "source": [
    "Create a thread"
   ]
  },
  {
   "cell_type": "code",
   "execution_count": 6,
   "metadata": {},
   "outputs": [
    {
     "name": "stdout",
     "output_type": "stream",
     "text": [
      "Thread(id='thread_aVz4jNAaZxufnu0vTWDMIqgW', created_at=1706618965, metadata={}, object='thread')\n"
     ]
    }
   ],
   "source": [
    "thread = client.beta.threads.create()\n",
    "print(thread)"
   ]
  },
  {
   "cell_type": "markdown",
   "metadata": {},
   "source": [
    "Create message"
   ]
  },
  {
   "cell_type": "code",
   "execution_count": 8,
   "metadata": {},
   "outputs": [],
   "source": [
    "message = client.beta.threads.messages.create(\n",
    "    thread_id = thread.id,\n",
    "    role = \"user\",\n",
    "    content = \"Give me a concise executive summary of the narratives, storylines, and themes in the NBA discussed by Thinking Basketball. Include key stats they mention, at least one per narrative/storyline. Then finish with a concise summary of players and teams mentioned.\"\n",
    ")"
   ]
  },
  {
   "cell_type": "markdown",
   "metadata": {},
   "source": [
    "Run Assistant"
   ]
  },
  {
   "cell_type": "code",
   "execution_count": 14,
   "metadata": {},
   "outputs": [
    {
     "name": "stdout",
     "output_type": "stream",
     "text": [
      "Run created! 🚀\n",
      "Run Status: queued\n",
      "Run Status: in_progress\n",
      "Run Status: in_progress\n",
      "Run Status: in_progress\n",
      "Run Status: in_progress\n",
      "Run Status: in_progress\n",
      "Run Status: in_progress\n",
      "Run Status: in_progress\n",
      "Run Status: in_progress\n",
      "Run Status: in_progress\n",
      "Run Status: in_progress\n",
      "Run Status: completed\n",
      "Run Completed! ✅\n"
     ]
    }
   ],
   "source": [
    "run = client.beta.threads.runs.create(\n",
    "    thread_id = thread.id,\n",
    "    assistant_id = assistant.id\n",
    ")\n",
    "print(\"Run created! 🚀\")\n",
    "while run.status not in [\"completed\", \"failed\"]:\n",
    "    run = client.beta.threads.runs.retrieve(thread_id=thread.id, run_id=run.id)\n",
    "    print(f\"Run Status: {run.status}\")\n",
    "    if run.status == \"failed\":\n",
    "        print(f\"Run Failed.\")\n",
    "        break\n",
    "    time.sleep(3)\n",
    "else:\n",
    "    print(f\"Run Completed! ✅\")"
   ]
  },
  {
   "cell_type": "markdown",
   "metadata": {},
   "source": [
    "Display Response"
   ]
  },
  {
   "cell_type": "code",
   "execution_count": 15,
   "metadata": {},
   "outputs": [
    {
     "data": {
      "text/plain": [
       "'completed'"
      ]
     },
     "execution_count": 15,
     "metadata": {},
     "output_type": "execute_result"
    }
   ],
   "source": [
    "run.status"
   ]
  },
  {
   "cell_type": "code",
   "execution_count": 16,
   "metadata": {},
   "outputs": [
    {
     "name": "stdout",
     "output_type": "stream",
     "text": [
      "Messages: SyncCursorPage[ThreadMessage](data=[ThreadMessage(id='msg_0Cj1d823n6wQ23tUv2yH9MXj', assistant_id='asst_Jf6bGHwnyaSC0UF14MY6jUTD', content=[MessageContentText(text=Text(annotations=[], value=\"### Executive Summary: NBA Narratives, Storylines, and Themes Discussed by Thinking Basketball\\n\\n**Narratives/Storylines/Themes:**\\n\\n- **Ja Morant's Spectacular Season Start:** Thinking Basketball highlights Ja Morant's explosive start to the NBA season, praising his exceptional ball-handling, strength, offensive package, and ability to manipulate passes mid-air. However, concerns about his shooting efficiency and decision-making when driving to the basket were raised, indicating room for improvement to elevate his overall impact further.\\n\\n- **The Complicated Rudy Gobert Trade:** The narrative around the Minnesota Timberwolves' trade for Rudy Gobert was discussed with a critical lens, highlighting dissatisfaction with the team's dynamics and its implications for the Timberwolves' future success. It's noted as one of the most disliked trades in recent history, questioning the long-term viability of the team's current composition.\\n\\n**Key Stats:**\\n- **Ja Morant:** Despite being known for his scoring and explosive plays, Morant had a mentioned statistic of shooting only 17% from three in the first four games of the season. Additionally, last season, he was second in the league in drive frequency but only in the 53rd percentile regarding finishing efficiency on those drives, revealing a gap between ability and efficiency.\\n\\n**Players and Teams Mentioned:**\\n- **Ja Morant and Memphis Grizzlies:** Morant's evolution as a player, focusing on his offensive prowess and challenges, demonstrating that while he is a tremendous talent, his potential improvements (e.g., shooting and shot selection) could make him even more impactful. His performance implications for the Grizzlies are discussed, suggesting that improvements in his game could significantly alter the team's trajectory.\\n  \\n- **Rudy Gobert, Carl Anthony Towns, and Minnesota Timberwolves:** The discussion around the trade that brought Gobert to the Timberwolves, its fit with Carl Anthony Towns, and its repercussions on the team's structure and success, reflect skepticism regarding the decision's strategic wisdom and future implications for the team.\\n\\n- **Others:** Desmond Bain is mentioned in the context of being a beneficial running partner for Morant, indicating his role in the Grizzlies' dynamics.\\n\\n### Summary\\nThinking Basketball provides a nuanced analysis of the NBA, focusing on individual player performance, team dynamics, and strategic decisions, such as trades, that shape the league's landscape. Highlighted statistics and opinions offer insights into the potential for players like Ja Morant and teams like the Memphis Grizzlies and Minnesota Timberwolves, underscoring the importance of both individual and collective strategies in achieving success in the NBA.\"), type='text')], created_at=1706620048, file_ids=[], metadata={}, object='thread.message', role='assistant', run_id='run_O7wjAMgiQubhJFQMNLrHWIKl', thread_id='thread_aVz4jNAaZxufnu0vTWDMIqgW'), ThreadMessage(id='msg_BPyGOPNSQ953QdZB8LnhMGaE', assistant_id=None, content=[MessageContentText(text=Text(annotations=[], value='Give me a concise executive summary of the narratives, storylines, and themes in the NBA discussed by Thinking Basketball. Include key stats they mention, at least one per narrative/storyline. Then finish with a concise summary of players and teams mentioned.'), type='text')], created_at=1706619309, file_ids=[], metadata={}, object='thread.message', role='user', run_id=None, thread_id='thread_aVz4jNAaZxufnu0vTWDMIqgW')], object='list', first_id='msg_0Cj1d823n6wQ23tUv2yH9MXj', last_id='msg_BPyGOPNSQ953QdZB8LnhMGaE', has_more=False)\n",
      "user: Give me a concise executive summary of the narratives, storylines, and themes in the NBA discussed by Thinking Basketball. Include key stats they mention, at least one per narrative/storyline. Then finish with a concise summary of players and teams mentioned.\n",
      "assistant: ### Executive Summary: NBA Narratives, Storylines, and Themes Discussed by Thinking Basketball\n",
      "\n",
      "**Narratives/Storylines/Themes:**\n",
      "\n",
      "- **Ja Morant's Spectacular Season Start:** Thinking Basketball highlights Ja Morant's explosive start to the NBA season, praising his exceptional ball-handling, strength, offensive package, and ability to manipulate passes mid-air. However, concerns about his shooting efficiency and decision-making when driving to the basket were raised, indicating room for improvement to elevate his overall impact further.\n",
      "\n",
      "- **The Complicated Rudy Gobert Trade:** The narrative around the Minnesota Timberwolves' trade for Rudy Gobert was discussed with a critical lens, highlighting dissatisfaction with the team's dynamics and its implications for the Timberwolves' future success. It's noted as one of the most disliked trades in recent history, questioning the long-term viability of the team's current composition.\n",
      "\n",
      "**Key Stats:**\n",
      "- **Ja Morant:** Despite being known for his scoring and explosive plays, Morant had a mentioned statistic of shooting only 17% from three in the first four games of the season. Additionally, last season, he was second in the league in drive frequency but only in the 53rd percentile regarding finishing efficiency on those drives, revealing a gap between ability and efficiency.\n",
      "\n",
      "**Players and Teams Mentioned:**\n",
      "- **Ja Morant and Memphis Grizzlies:** Morant's evolution as a player, focusing on his offensive prowess and challenges, demonstrating that while he is a tremendous talent, his potential improvements (e.g., shooting and shot selection) could make him even more impactful. His performance implications for the Grizzlies are discussed, suggesting that improvements in his game could significantly alter the team's trajectory.\n",
      "  \n",
      "- **Rudy Gobert, Carl Anthony Towns, and Minnesota Timberwolves:** The discussion around the trade that brought Gobert to the Timberwolves, its fit with Carl Anthony Towns, and its repercussions on the team's structure and success, reflect skepticism regarding the decision's strategic wisdom and future implications for the team.\n",
      "\n",
      "- **Others:** Desmond Bain is mentioned in the context of being a beneficial running partner for Morant, indicating his role in the Grizzlies' dynamics.\n",
      "\n",
      "### Summary\n",
      "Thinking Basketball provides a nuanced analysis of the NBA, focusing on individual player performance, team dynamics, and strategic decisions, such as trades, that shape the league's landscape. Highlighted statistics and opinions offer insights into the potential for players like Ja Morant and teams like the Memphis Grizzlies and Minnesota Timberwolves, underscoring the importance of both individual and collective strategies in achieving success in the NBA.\n"
     ]
    }
   ],
   "source": [
    "messages = client.beta.threads.messages.list(thread_id=thread.id)\n",
    "print(f\"Messages: {messages}\")\n",
    "for message in reversed(messages.data):\n",
    "    print(message.role + \": \" + message.content[0].text.value)"
   ]
  },
  {
   "cell_type": "code",
   "execution_count": 22,
   "metadata": {},
   "outputs": [
    {
     "name": "stdout",
     "output_type": "stream",
     "text": [
      "Thread(id='thread_hdVmY9EusJU3MCbumKaIOVis', created_at=1706621089, metadata={}, object='thread')\n"
     ]
    }
   ],
   "source": [
    "new_thread = client.beta.threads.create()\n",
    "print(new_thread)\n",
    "\n",
    "new_message = client.beta.threads.messages.create(\n",
    "    thread_id = new_thread.id,\n",
    "    role = \"user\",\n",
    "    content = \"give me 5 examples for Thinking Basketball video titles\"\n",
    ")"
   ]
  },
  {
   "cell_type": "code",
   "execution_count": 23,
   "metadata": {},
   "outputs": [
    {
     "name": "stdout",
     "output_type": "stream",
     "text": [
      "Run created! 🚀\n",
      "Run Status: in_progress\n",
      "Run Status: in_progress\n",
      "Run Status: in_progress\n",
      "Run Status: in_progress\n",
      "Run Status: in_progress\n",
      "Run Status: in_progress\n",
      "Run Status: in_progress\n",
      "Run Status: completed\n",
      "Run Completed! ✅\n"
     ]
    }
   ],
   "source": [
    "run = client.beta.threads.runs.create(\n",
    "    thread_id = new_thread.id,\n",
    "    assistant_id = assistant.id\n",
    ")\n",
    "print(\"Run created! 🚀\")\n",
    "while run.status not in [\"completed\", \"failed\"]:\n",
    "    run = client.beta.threads.runs.retrieve(thread_id=new_thread.id, run_id=run.id)\n",
    "    print(f\"Run Status: {run.status}\")\n",
    "    if run.status == \"failed\":\n",
    "        print(f\"Run Failed.\")\n",
    "        break\n",
    "    time.sleep(3)\n",
    "else:\n",
    "    print(f\"Run Completed! ✅\")"
   ]
  },
  {
   "cell_type": "code",
   "execution_count": 24,
   "metadata": {},
   "outputs": [
    {
     "name": "stdout",
     "output_type": "stream",
     "text": [
      "Messages: SyncCursorPage[ThreadMessage](data=[ThreadMessage(id='msg_dxe38dZWXZd1pilsO8aFTDJ7', assistant_id='asst_Jf6bGHwnyaSC0UF14MY6jUTD', content=[MessageContentText(text=Text(annotations=[], value=\"Here are five examples of video titles from the Thinking Basketball channel:\\n\\n1. The Lakers won the first ever NBA cup by shutting down the league's best offense, executing a perfect game plan【5†source】.\\n2. How the Pacers create great shots in transition because of their pace【5†source】.\\n3. The strategy of pick up Halliburton full court to slow him down【5†source】.\\n4. How LeBron James switches out, moves his feet, and funnels the ball into traffic for a block【5†source】.\\n5. A masterful Laker game plan cooked up by Coach Darvin Ham, built around Davis's versatility【5†source】.\\n\\nNote: The titles have been crafted based on the content description provided in the document for ease of understanding, as precise video titles were not directly mentioned.\"), type='text')], created_at=1706621101, file_ids=[], metadata={}, object='thread.message', role='assistant', run_id='run_t3T5qteV5CDYhjhboxUSQdYY', thread_id='thread_hdVmY9EusJU3MCbumKaIOVis'), ThreadMessage(id='msg_0ibkUWYl6lv81HjuDeS4EBJ1', assistant_id=None, content=[MessageContentText(text=Text(annotations=[], value='give me 5 examples for Thinking Basketball video titles'), type='text')], created_at=1706621089, file_ids=[], metadata={}, object='thread.message', role='user', run_id=None, thread_id='thread_hdVmY9EusJU3MCbumKaIOVis')], object='list', first_id='msg_dxe38dZWXZd1pilsO8aFTDJ7', last_id='msg_0ibkUWYl6lv81HjuDeS4EBJ1', has_more=False)\n",
      "user: give me 5 examples for Thinking Basketball video titles\n",
      "assistant: Here are five examples of video titles from the Thinking Basketball channel:\n",
      "\n",
      "1. The Lakers won the first ever NBA cup by shutting down the league's best offense, executing a perfect game plan【5†source】.\n",
      "2. How the Pacers create great shots in transition because of their pace【5†source】.\n",
      "3. The strategy of pick up Halliburton full court to slow him down【5†source】.\n",
      "4. How LeBron James switches out, moves his feet, and funnels the ball into traffic for a block【5†source】.\n",
      "5. A masterful Laker game plan cooked up by Coach Darvin Ham, built around Davis's versatility【5†source】.\n",
      "\n",
      "Note: The titles have been crafted based on the content description provided in the document for ease of understanding, as precise video titles were not directly mentioned.\n"
     ]
    }
   ],
   "source": [
    "new_messages = client.beta.threads.messages.list(thread_id=new_thread.id)\n",
    "print(f\"Messages: {new_messages}\")\n",
    "for message in reversed(new_messages.data):\n",
    "    print(message.role + \": \" + message.content[0].text.value)"
   ]
  }
 ],
 "metadata": {
  "kernelspec": {
   "display_name": "googleenv",
   "language": "python",
   "name": "python3"
  },
  "language_info": {
   "codemirror_mode": {
    "name": "ipython",
    "version": 3
   },
   "file_extension": ".py",
   "mimetype": "text/x-python",
   "name": "python",
   "nbconvert_exporter": "python",
   "pygments_lexer": "ipython3",
   "version": "3.12.1"
  }
 },
 "nbformat": 4,
 "nbformat_minor": 2
}
